{
 "cells": [
  {
   "cell_type": "code",
   "execution_count": 1,
   "metadata": {
    "collapsed": true
   },
   "outputs": [],
   "source": [
    "#1 import required modules\n",
    "import time\n",
    "import io\n",
    "import matplotlib.pyplot as plt\n",
    "import numpy as np\n",
    "\n",
    "from sklearn import neighbors\n",
    "\n",
    "from scipy.io.arff import loadarff\n",
    "from sklearn.datasets import get_data_home\n",
    "from sklearn.externals.joblib import Memory\n",
    "from sklearn.linear_model import LogisticRegression\n",
    "from sklearn.model_selection import train_test_split\n",
    "from sklearn.preprocessing import StandardScaler\n",
    "from sklearn.utils import check_random_state\n",
    "from urllib.request import urlopen\n"
   ]
  },
  {
   "cell_type": "code",
   "execution_count": 2,
   "metadata": {
    "collapsed": true
   },
   "outputs": [],
   "source": [
    "#2.  read the NMIST dataset\n",
    "memory = Memory(get_data_home())\n",
    "@memory.cache()\n",
    "def fetch_mnist():\n",
    "    content = urlopen(\n",
    "        'https://www.openml.org/data/download/52667/mnist_784.arff').read()\n",
    "    data, meta = loadarff(io.StringIO(content.decode('utf8')))\n",
    "    data = data.view([('pixels', '<f8', 784), ('class', '|S1')])\n",
    "    return data['pixels'], data['class']\n",
    "X, y = fetch_mnist()"
   ]
  },
  {
   "cell_type": "code",
   "execution_count": 3,
   "metadata": {
    "collapsed": true
   },
   "outputs": [],
   "source": [
    "# rescale the data, use the traditional train/test split\n",
    "\n",
    "X = X / 255.\n",
    "\n",
    "###### NEW  Refromat the the labels to be integers rather than byte arrays\n",
    "y_trans = []\n",
    "for i in range(len(y)):\n",
    "    y_trans.append(int(y[i]))\n",
    "y = np.asarray(y_trans)\n",
    "\n",
    "X_train, X_test = X[:2000], X[2000:]\n",
    "y_train, y_test = y[:2000], y[2000:]\n"
   ]
  },
  {
   "cell_type": "code",
   "execution_count": 4,
   "metadata": {
    "collapsed": true
   },
   "outputs": [],
   "source": [
    "y_trans = []\n",
    "for i in range(len(y)):\n",
    "    y_trans.append(int(y[i]))\n",
    "y = np.asarray(y_trans)"
   ]
  },
  {
   "cell_type": "markdown",
   "metadata": {},
   "source": [
    "# KNN neighbor = 3"
   ]
  },
  {
   "cell_type": "code",
   "execution_count": null,
   "metadata": {},
   "outputs": [
    {
     "name": "stdout",
     "output_type": "stream",
     "text": [
      "Training time 163.337 seconds\n"
     ]
    }
   ],
   "source": [
    "import time\n",
    "start_time = time.time()\n",
    "#Classifier Declaration\n",
    "KNN = neighbors.KNeighborsClassifier(n_neighbors=3)\n",
    "#Train the classifier\n",
    "KNN.fit(X,y)\n",
    "train_time = time.time() - start_time\n",
    "start_time = time.time()\n",
    "print(\"Training time %.3f seconds\" % train_time)\n",
    "#Evaluate the result\n",
    "score = KNN.score(X_test,y_test)\n",
    "print(\"Test score with 3NN is: %.4f\" % score)\n",
    "test_time = time.time() - start_time\n",
    "print(\"Test time %.3f seconds\" % test_time)\n",
    "print(\"Test score with 3NN is: %.4f\" % score)"
   ]
  },
  {
   "cell_type": "markdown",
   "metadata": {},
   "source": [
    "# KNN neighbor=5"
   ]
  },
  {
   "cell_type": "code",
   "execution_count": null,
   "metadata": {
    "collapsed": true
   },
   "outputs": [],
   "source": [
    "import time\n",
    "start_time = time.time()\n",
    "#Classifier Declaration\n",
    "KNN = neighbors.KNeighborsClassifier(n_neighbors=5)\n",
    "#Train the classifier\n",
    "KNN.fit(X,y)\n",
    "train_time = time.time() - start_time\n",
    "start_time = time.time()\n",
    "print(\"Training time %.3f seconds\" % train_time)\n",
    "#Evaluate the result\n",
    "score = KNN.score(X_test,y_test)\n",
    "print(\"Test score with 5NN is: %.4f\" % score)\n",
    "test_time = time.time() - start_time\n",
    "print(\"Test time %.3f seconds\" % test_time)\n",
    "print(\"Test score with 5NN is: %.4f\" % score)\n"
   ]
  },
  {
   "cell_type": "markdown",
   "metadata": {},
   "source": [
    "# KNN neighbor=1"
   ]
  },
  {
   "cell_type": "code",
   "execution_count": null,
   "metadata": {
    "collapsed": true
   },
   "outputs": [],
   "source": [
    "import time\n",
    "start_time = time.time()\n",
    "#Classifier Declaration\n",
    "KNN = neighbors.KNeighborsClassifier(n_neighbors=1)\n",
    "#Train the classifier\n",
    "KNN.fit(X,y)\n",
    "train_time = time.time() - start_time\n",
    "start_time = time.time()\n",
    "print(\"Training time %.3f seconds\" % train_time)\n",
    "#Evaluate the result\n",
    "score = KNN.score(X_test,y_test)\n",
    "print(\"Test score with 1NN is: %.4f\" % score)\n",
    "test_time = time.time() - start_time\n",
    "print(\"Test time %.3f seconds\" % test_time)\n",
    "print(\"Test score with 1NN is: %.4f\" % score)\n"
   ]
  },
  {
   "cell_type": "markdown",
   "metadata": {},
   "source": [
    "# single hidden layer perceptron"
   ]
  },
  {
   "cell_type": "code",
   "execution_count": 9,
   "metadata": {
    "collapsed": true
   },
   "outputs": [],
   "source": [
    "# Standard scientific Python import\n",
    "import time\n",
    "import io\n",
    "import matplotlib.pyplot as plt\n",
    "import numpy as np\n",
    "from scipy.io.arff import loadarff\n",
    "\n",
    "from sklearn.neural_network import MLPClassifier\n",
    "from sklearn.datasets import get_data_home\n",
    "from sklearn.externals.joblib import Memory\n",
    "from sklearn.linear_model import LogisticRegression\n",
    "from sklearn.model_selection import train_test_split\n",
    "from sklearn.preprocessing import StandardScaler\n",
    "from sklearn.utils import check_random_state\n",
    "from urllib.request import urlopen"
   ]
  },
  {
   "cell_type": "code",
   "execution_count": 7,
   "metadata": {
    "collapsed": true
   },
   "outputs": [],
   "source": [
    "# rescale the data, use the traditional train/test split\n",
    "\n",
    "X = X / 255.\n",
    "\n",
    "###### NEW  Refromat the the labels to be integers rather than byte arrays\n",
    "y_trans = []\n",
    "for i in range(len(y)):\n",
    "    y_trans.append(int(y[i]))\n",
    "y = np.asarray(y_trans)\n",
    "\n",
    "X_train, X_test = X[:10000], X[10000:]\n",
    "y_train, y_test = y[:10000], y[10000:]"
   ]
  },
  {
   "cell_type": "code",
   "execution_count": 11,
   "metadata": {},
   "outputs": [
    {
     "name": "stdout",
     "output_type": "stream",
     "text": [
      "Iteration 1, loss = 2.30177414\n",
      "Iteration 2, loss = 2.29640579\n",
      "Iteration 3, loss = 2.28079607\n",
      "Iteration 4, loss = 2.22430802\n",
      "Iteration 5, loss = 2.06978627\n",
      "Iteration 6, loss = 1.87692259\n",
      "Iteration 7, loss = 1.73030194\n",
      "Iteration 8, loss = 1.57107123\n",
      "Iteration 9, loss = 1.48629060\n",
      "Iteration 10, loss = 1.32709638\n",
      "Iteration 11, loss = 1.20931433\n",
      "Iteration 12, loss = 1.14219911\n",
      "Iteration 13, loss = 1.01709561\n",
      "Iteration 14, loss = 0.91444504\n",
      "Iteration 15, loss = 0.85380360\n",
      "Iteration 16, loss = 0.79627242\n",
      "Iteration 17, loss = 0.75783681\n",
      "Iteration 18, loss = 0.69868661\n",
      "Iteration 19, loss = 0.68157973\n",
      "Iteration 20, loss = 0.66439737\n",
      "Iteration 21, loss = 0.64161187\n",
      "Iteration 22, loss = 0.62998200\n",
      "Iteration 23, loss = 0.59340712\n",
      "Iteration 24, loss = 0.59331972\n",
      "Iteration 25, loss = 0.58458257\n",
      "Iteration 26, loss = 0.55399646\n",
      "Iteration 27, loss = 0.55201760\n",
      "Iteration 28, loss = 0.53965429\n",
      "Iteration 29, loss = 0.51772597\n",
      "Iteration 30, loss = 0.51751486\n",
      "Iteration 31, loss = 0.50862867\n",
      "Iteration 32, loss = 0.50833118\n",
      "Iteration 33, loss = 0.50239182\n",
      "Iteration 34, loss = 0.48298812\n",
      "Iteration 35, loss = 0.48914454\n",
      "Iteration 36, loss = 0.47946301\n",
      "Iteration 37, loss = 0.47547851\n",
      "Iteration 38, loss = 0.45579543\n",
      "Iteration 39, loss = 0.46437591\n",
      "Iteration 40, loss = 0.47072635\n",
      "Training time of Single hidden layer perceptron is: 125.371 seconds\n"
     ]
    },
    {
     "name": "stderr",
     "output_type": "stream",
     "text": [
      "/home/student/anaconda3/lib/python3.6/site-packages/sklearn/neural_network/multilayer_perceptron.py:564: ConvergenceWarning: Stochastic Optimizer: Maximum iterations (40) reached and the optimization hasn't converged yet.\n",
      "  % self.max_iter, ConvergenceWarning)\n"
     ]
    },
    {
     "name": "stdout",
     "output_type": "stream",
     "text": [
      "Test score with Single hidden layer perceptron is: 0.8674\n",
      "Test time of of Single hidden layer perceptron is: 12.869 seconds\n"
     ]
    }
   ],
   "source": [
    "import time\n",
    "start_time = time.time()\n",
    "#Classifier Declaration\n",
    "# Single hidden layer\n",
    "mlp = MLPClassifier(hidden_layer_sizes=(50,), max_iter=40, alpha=1e-4,\n",
    "                    solver='sgd', verbose=10, tol=1e-4, random_state=1,\n",
    "                    learning_rate_init=.1)\n",
    "# Note, the iteration limit will be reached! \n",
    "#Train the classifier\n",
    "mlp.fit(X,y)\n",
    "train_time = time.time() - start_time\n",
    "start_time = time.time()\n",
    "print(\"Training time of Single hidden layer perceptron is: %.3f seconds\" % train_time)\n",
    "#Evaluate the result\n",
    "score = mlp.score(X_test,y_test)\n",
    "print(\"Test score with Single hidden layer perceptron is: %.4f\" % score)\n",
    "test_time = time.time() - start_time\n",
    "print(\"Test time of of Single hidden layer perceptron is: %.3f seconds\" % test_time)\n"
   ]
  },
  {
   "cell_type": "markdown",
   "metadata": {},
   "source": [
    "# Double hidden layer perceptron"
   ]
  },
  {
   "cell_type": "code",
   "execution_count": 13,
   "metadata": {},
   "outputs": [
    {
     "name": "stdout",
     "output_type": "stream",
     "text": [
      "Iteration 1, loss = 2.30276770\n",
      "Iteration 2, loss = 2.29844983\n",
      "Iteration 3, loss = 2.25937831\n",
      "Iteration 4, loss = 2.25532811\n",
      "Iteration 5, loss = 2.20611945\n",
      "Iteration 6, loss = 2.16756758\n",
      "Iteration 7, loss = 2.13828029\n",
      "Iteration 8, loss = 2.12182886\n",
      "Iteration 9, loss = 2.06342671\n",
      "Iteration 10, loss = 2.01456683\n",
      "Iteration 11, loss = 1.94533658\n",
      "Iteration 12, loss = 1.96352857\n",
      "Iteration 13, loss = 1.98564846\n",
      "Iteration 14, loss = 1.94674204\n",
      "Training loss did not improve more than tol=0.000100 for two consecutive epochs. Stopping.\n",
      "Training time of Double hidden layer perceptron is: 35.302 seconds\n",
      "Test score with Double hidden layer perceptron is: 0.2749\n",
      "Test time of of Double hidden layer perceptron is: 9.492 seconds\n"
     ]
    }
   ],
   "source": [
    "import time\n",
    "start_time = time.time()\n",
    "#Classifier Declaration\n",
    "# Two hidden layers\n",
    "mlp_2 = MLPClassifier(hidden_layer_sizes=(50,50), max_iter=40, alpha=1e-4,\n",
    "                    solver='sgd', verbose=10, tol=1e-4, random_state=1,\n",
    "                    learning_rate_init=.1)\n",
    "#\n",
    "#Train the classifier\n",
    "mlp_2.fit(X,y)\n",
    "train_time = time.time() - start_time\n",
    "start_time = time.time()\n",
    "print(\"Training time of Double hidden layer perceptron is: %.3f seconds\" % train_time)\n",
    "#Evaluate the result\n",
    "score = mlp_2.score(X_test,y_test)\n",
    "print(\"Test score with Double hidden layer perceptron is: %.4f\" % score)\n",
    "test_time = time.time() - start_time\n",
    "print(\"Test time of of Double hidden layer perceptron is: %.3f seconds\" % test_time)\n"
   ]
  },
  {
   "cell_type": "markdown",
   "metadata": {},
   "source": [
    "# Linear function SVM"
   ]
  },
  {
   "cell_type": "code",
   "execution_count": 14,
   "metadata": {
    "collapsed": true
   },
   "outputs": [],
   "source": [
    "# Standard scientific Python imports\n",
    "import time\n",
    "import io\n",
    "import matplotlib.pyplot as plt\n",
    "import numpy as np\n",
    "\n",
    "# Import datasets, classifiers and performance metrics\n",
    "from sklearn import datasets, svm, metrics\n",
    "from scipy.io.arff import loadarff\n",
    "from sklearn.datasets import get_data_home\n",
    "from sklearn.externals.joblib import Memory\n",
    "from sklearn.linear_model import LogisticRegression\n",
    "from sklearn.model_selection import train_test_split\n",
    "from sklearn.preprocessing import StandardScaler\n",
    "from sklearn.utils import check_random_state\n",
    "from urllib.request import urlopen\n"
   ]
  },
  {
   "cell_type": "code",
   "execution_count": null,
   "metadata": {},
   "outputs": [],
   "source": [
    "import time\n",
    "start_time = time.time()\n",
    "#Classifier Declaration\n",
    "## Linear\n",
    "clf = svm.SVC(kernel = 'linear', C = 1)\n",
    "##\n",
    "#Train the classifier\n",
    "clf.fit(X,y)\n",
    "train_time = time.time() - start_time\n",
    "start_time = time.time()\n",
    "print(\"Training time of linear function SVM is: %.3f seconds\" % train_time)\n",
    "#Evaluate the result\n",
    "score = mlp_2.score(X_test,y_test)\n",
    "print(\"Test score with linear function SVM is: %.4f\" % score)\n",
    "test_time = time.time() - start_time\n",
    "print(\"Test time of of linear function SVM is: %.3f seconds\" % test_time)"
   ]
  },
  {
   "cell_type": "markdown",
   "metadata": {},
   "source": [
    "# Polynormial function SVM"
   ]
  },
  {
   "cell_type": "code",
   "execution_count": null,
   "metadata": {
    "collapsed": true
   },
   "outputs": [],
   "source": [
    "import time\n",
    "start_time = time.time()\n",
    "#Classifier Declaration\n",
    "## cubic polynomial\n",
    "clf = svm.SVC(kernel = 'poly',degree = 3, C = 1)\n",
    "##\n",
    "#Train the classifier\n",
    "clf.fit(X,y)\n",
    "train_time = time.time() - start_time\n",
    "start_time = time.time()\n",
    "print(\"Training time of poly function SVM is: %.3f seconds\" % train_time)\n",
    "#Evaluate the result\n",
    "score = mlp_2.score(X_test,y_test)\n",
    "print(\"Test score with poly function SVM is: %.4f\" % score)\n",
    "test_time = time.time() - start_time\n",
    "print(\"Test time of of poly function SVM is: %.3f seconds\" % test_time)"
   ]
  },
  {
   "cell_type": "markdown",
   "metadata": {},
   "source": [
    "# radial basis function SVM"
   ]
  },
  {
   "cell_type": "code",
   "execution_count": null,
   "metadata": {
    "collapsed": true
   },
   "outputs": [],
   "source": [
    "import time\n",
    "start_time = time.time()\n",
    "#Classifier Declaration\n",
    "## Radial basis functions\n",
    "clf = svm.SVC(kernel = 'rbf', C = 1, gamma = 0.5)\n",
    "\n",
    "#Train the classifier\n",
    "clf.fit(X,y)\n",
    "train_time = time.time() - start_time\n",
    "start_time = time.time()\n",
    "print(\"Training time of radial basis function SVM is: %.3f seconds\" % train_time)\n",
    "#Evaluate the result\n",
    "score = mlp_2.score(X_test,y_test)\n",
    "print(\"Test score with radial basis function SVM is: %.4f\" % score)\n",
    "test_time = time.time() - start_time\n",
    "print(\"Test time of ofradial basis function SVM is: %.3f seconds\" % test_time)"
   ]
  },
  {
   "cell_type": "code",
   "execution_count": null,
   "metadata": {
    "collapsed": true
   },
   "outputs": [],
   "source": []
  }
 ],
 "metadata": {
  "kernelspec": {
   "display_name": "Python 3",
   "language": "python",
   "name": "python3"
  },
  "language_info": {
   "codemirror_mode": {
    "name": "ipython",
    "version": 3
   },
   "file_extension": ".py",
   "mimetype": "text/x-python",
   "name": "python",
   "nbconvert_exporter": "python",
   "pygments_lexer": "ipython3",
   "version": "3.6.3"
  }
 },
 "nbformat": 4,
 "nbformat_minor": 2
}
